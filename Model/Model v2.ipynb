{
 "cells": [
  {
   "cell_type": "code",
   "execution_count": 2,
   "metadata": {},
   "outputs": [],
   "source": [
    "from PIL import Image, ImageFilter\n",
    "from google.cloud import vision\n",
    "import matplotlib.pyplot as plt\n",
    "import matplotlib.image as mpimg\n",
    "import pandas as pd\n",
    "import base64\n",
    "import io\n",
    "import os\n",
    "\n",
    "#Funciones generales para uso global\n",
    "import numpy as np\n",
    "import time\n",
    "from shapely.geometry import Polygon, Point\n",
    "import geopandas as gpd\n",
    "from shapely.ops import cascaded_union\n",
    "import rasterio\n",
    "from rasterio.mask import mask\n",
    "from shapely import geometry\n",
    "import pandas as pd\n",
    "from geotiff import GeoTiff\n",
    "\n",
    "\n",
    "#Funciones empleadas en la detección de texto\n",
    "import os, sys\n",
    "import numpy as np\n",
    "import cv2\n",
    "import time\n",
    "from imutils.object_detection import non_max_suppression\n",
    "\n",
    "import rasterio\n",
    "from rasterio.enums import Resampling"
   ]
  },
  {
   "cell_type": "markdown",
   "metadata": {},
   "source": [
    "# Model v1: Split the image, detect text areas, and convert to text strings"
   ]
  },
  {
   "cell_type": "markdown",
   "metadata": {},
   "source": [
    "## Splitting the image"
   ]
  },
  {
   "cell_type": "code",
   "execution_count": 63,
   "metadata": {},
   "outputs": [],
   "source": [
    "# Takes a Rasterio dataset and splits it into squares of dimensions squareDim * squareDim\n",
    "def splitImageIntoCells(img, filename, num_imgs=3):\n",
    "    squareDim_wide = img.shape[1] // num_imgs\n",
    "    squareDim_height = img.shape[0] // num_imgs\n",
    "    \n",
    "    numberOfCellsWide = img.shape[1] // squareDim_wide\n",
    "    numberOfCellsHigh = img.shape[0] // squareDim_height\n",
    "    x, y = 0, 0\n",
    "    count = 0\n",
    "    for hc in range(numberOfCellsHigh):\n",
    "        y = hc * squareDim_height\n",
    "        for wc in range(numberOfCellsWide):\n",
    "            x = wc * squareDim_wide\n",
    "            geom = getTileGeom(img.transform, x, y, squareDim_wide, squareDim_height)\n",
    "            getCellFromGeom(img, geom, filename, count)\n",
    "            count = count + 1\n",
    "\n",
    "# Generate a bounding box from the pixel-wise coordinates using the original datasets transform property\n",
    "def getTileGeom(transform, x, y, squareDim_wide, squareDim_height):\n",
    "    corner1 = (x, y) * transform\n",
    "    corner2 = (x + squareDim_wide, y + squareDim_height) * transform\n",
    "    return geometry.box(corner1[0], corner1[1],\n",
    "                        corner2[0], corner2[1])\n",
    "\n",
    "# Crop the dataset using the generated box and write it out as a GeoTIFF\n",
    "def getCellFromGeom(img, geom, filename, count):\n",
    "    crop, cropTransform = mask(img, [geom], crop=True)\n",
    "    writeImageAsGeoTIFF(crop,\n",
    "                        cropTransform,\n",
    "                        img.meta,\n",
    "                        img.crs,\n",
    "                        filename+\"_\"+str(count))\n",
    "\n",
    "# Write the passed in dataset as a GeoTIFF\n",
    "def writeImageAsGeoTIFF(img, transform, metadata, crs, filename):\n",
    "    metadata.update({\"driver\":\"GTiff\",\n",
    "                     \"height\":img.shape[1],\n",
    "                     \"width\":img.shape[2],\n",
    "                     \"transform\": transform,\n",
    "                     \"crs\": 'EPSG:4686'})\n",
    "    with rasterio.open(filename+\".tif\", \"w\", **metadata) as dest:\n",
    "        dest.write(img)"
   ]
  },
  {
   "cell_type": "code",
   "execution_count": 6,
   "metadata": {},
   "outputs": [],
   "source": [
    "def detect_text(bytes_img):\n",
    "    \"\"\"\n",
    "    Uses the Google Vision API to extract text from\n",
    "    an image.\n",
    "    \n",
    "    Arguments\n",
    "    ---------\n",
    "    file_path: str\n",
    "               path of the image to process.\n",
    "    \n",
    "    Outputs\n",
    "    -------\n",
    "    response: AnnotateImageResponse object\n",
    "              json like format with bounding box and other\n",
    "              relevant information.\n",
    "    text: str\n",
    "          text extracted from the image.\n",
    "    \"\"\"\n",
    "    client = vision.ImageAnnotatorClient()    \n",
    "    image = vision.Image(content=bytes_img)\n",
    "    response = client.document_text_detection(image=image)\n",
    "    text = response.full_text_annotation.text\n",
    "    \n",
    "    return response, text\n",
    "\n",
    "\n",
    "def getbytesimg_from_path(filepath):\n",
    "    \"\"\"\n",
    "    Obtains the bytes base64 format of an image from a \n",
    "    local file path.\n",
    "    \n",
    "    Arguments\n",
    "    ---------\n",
    "    filepath: str\n",
    "              Path of the image file to convert\n",
    "    \n",
    "    Output\n",
    "    ------\n",
    "    bytes_img: bytes\n",
    "               base64 format of the image\n",
    "    \"\"\"\n",
    "    with open(filepath, \"rb\") as image_file:\n",
    "        bytes_img = image_file.read()\n",
    "    \n",
    "    return bytes_img"
   ]
  },
  {
   "cell_type": "code",
   "execution_count": 92,
   "metadata": {},
   "outputs": [],
   "source": [
    "def split_images(filepath, num_imgs=3):\n",
    "    \"\"\"\n",
    "    Split a large image into a grid of 3x3\n",
    "    smaller images.\n",
    "    \n",
    "    Arguments:\n",
    "    ---------\n",
    "    filepath: str\n",
    "              file path of the large image\n",
    "    num_imgs: int (optional)\n",
    "              Number of rows and columns of the grid\n",
    "              \n",
    "    Output\n",
    "    ------\n",
    "    None\n",
    "    \n",
    "    \"\"\"\n",
    "    img = rasterio.open(filepath)\n",
    "    splitImageIntoCells(img, \"split_out/output_data\")"
   ]
  },
  {
   "cell_type": "code",
   "execution_count": 145,
   "metadata": {},
   "outputs": [],
   "source": [
    "def geotif_to_jpeg(tif_filename):\n",
    "    \"\"\"\n",
    "    Converts geotif image to jpeg.\n",
    "    \n",
    "    Arguments\n",
    "    \n",
    "    \"\"\"\n",
    "    with rasterio.open(tif_filename) as infile:    \n",
    "        profile = infile.profile    \n",
    "        profile['driver']='JPEG'\n",
    "        jpeg_filename = tif_filename.replace(\".tif\", \".jpeg\")\n",
    "        with rasterio.open(jpeg_filename, 'w', **profile) as dst:\n",
    "            dst.write(infile.read())"
   ]
  },
  {
   "cell_type": "code",
   "execution_count": 176,
   "metadata": {},
   "outputs": [],
   "source": [
    "def get_text_coords(response):\n",
    "    palabras_google = []\n",
    "    boundings_google = []\n",
    "    confidence_google = []\n",
    "    for page in response.full_text_annotation.pages:\n",
    "        for block in page.blocks:\n",
    "            palabra_google = ''\n",
    "            boundings_google.append(block.bounding_box)\n",
    "            confidence_google.append(block.confidence)\n",
    "            for parrafos in block.paragraphs:\n",
    "                for palabras in parrafos.words:\n",
    "                    for simbolo in palabras.symbols:\n",
    "                        palabra_google = palabra_google+simbolo.text\n",
    "                    palabra_google = palabra_google+' '\n",
    "            palabras_google.append(palabra_google.rstrip())\n",
    "            \n",
    "    return palabras_google, boundings_google, confidence_google"
   ]
  },
  {
   "cell_type": "code",
   "execution_count": 168,
   "metadata": {},
   "outputs": [],
   "source": [
    "def get_coords(boundings, word_index, point_index, coord):\n",
    "    if coord == \"x\":\n",
    "        return boundings[word_index].vertices[point_index].x\n",
    "    else:\n",
    "        return boundings[word_index].vertices[point_index].y"
   ]
  },
  {
   "cell_type": "markdown",
   "metadata": {},
   "source": [
    "# Environment Variables"
   ]
  },
  {
   "cell_type": "code",
   "execution_count": null,
   "metadata": {},
   "outputs": [],
   "source": [
    "img_to_process = \"geotiffs/M-1390 F-42290.tif\""
   ]
  },
  {
   "cell_type": "code",
   "execution_count": 150,
   "metadata": {},
   "outputs": [
    {
     "name": "stderr",
     "output_type": "stream",
     "text": [
      "<ipython-input-63-2599675af965>:20: DeprecationWarning: Right multiplication will be prohibited in version 3.0\n",
      "  corner1 = (x, y) * transform\n",
      "<ipython-input-63-2599675af965>:21: DeprecationWarning: Right multiplication will be prohibited in version 3.0\n",
      "  corner2 = (x + squareDim_wide, y + squareDim_height) * transform\n"
     ]
    }
   ],
   "source": [
    "split_images(img_to_process)\n",
    "image_to_proces = os.listdir(path='split_out')\n",
    "\n",
    "for path in image_to_proces:\n",
    "    if ('.tif' in path):\n",
    "        geotif_to_jpeg(path)\n",
    "        sub_image_jpeg = path.replace('.tif','.jpeg')\n",
    "        response, text = detect_text(getbytesimg_from_path(sub_image_jpeg))\n",
    "        words, boundings, confidence = get_text_coords(response)\n",
    "        img = rasterio.open(sub_image_jpeg)\n",
    "        \n",
    "        \n",
    "        \n",
    "        #Generating the sub_geometries\n",
    "        geometries = []\n",
    "        centroids = []\n",
    "\n",
    "        for i in range(len(words)):\n",
    "            aux_polygon = Polygon([img.xy(get_coords(boundings,i,0,\"y\"),get_coords(boundings,i,0,\"x\")),\n",
    "                                   img.xy(get_coords(boundings,i,1,\"y\"),get_coords(boundings,i,1,\"x\")),\n",
    "                                   img.xy(get_coords(boundings,i,2,\"y\"),get_coords(boundings,i,2,\"x\")),\n",
    "                                   img.xy(get_coords(boundings,i,3,\"y\"),get_coords(boundings,i,3,\"x\")),\n",
    "                                   img.xy(get_coords(boundings,i,0,\"y\"),get_coords(boundings,i,0,\"x\"))])\n",
    "            geometries.append(aux_polygon)\n",
    "            centroids.append(aux_polygon.representative_point())\n",
    "\n",
    "        point = gpd.GeoDataFrame(crs:str(img.crs))\n",
    "        point[\"geometry\"] = geometries\n",
    "        point[\"toponimo_ocr\"] = words\n",
    "        point[\"confidence\"] = confidence\n",
    "        point[\"centroide_longitud\"] = [x.coords[0][0] for x in centroids]\n",
    "        point[\"centroide_latitud\"] = [x.coords[0][1] for x in centroids]\n",
    "        name_geometrie = 'geometries_out/'+sub_image_jpeg.replace('.jpeg','.geojson')\n",
    "        try:\n",
    "            point.to_file(name_geometrie, driver=\"GeoJSON\")\n",
    "        except:\n",
    "            print('Empety text detect, empety geometries generated')\n",
    "    else:\n",
    "        continue"
   ]
  },
  {
   "cell_type": "markdown",
   "metadata": {},
   "source": [
    "## Union all subgeometries generated"
   ]
  },
  {
   "cell_type": "code",
   "execution_count": 177,
   "metadata": {},
   "outputs": [],
   "source": [
    "geometries_to_proces = os.listdir(path='geometries_out')\n",
    "org_img = rasterio.open(img_to_process)\n",
    "rectangles = []\n",
    "lista_toponimos_final = gpd.GeoDataFrame(crs=str(org_img.crs))\n",
    "for geometrie in geometries_to_proces:\n",
    "    file = gpd.read_file('geometries_out/'+geometrie)\n",
    "    lista_toponimos_final = lista_toponimos_final.append(file)\n",
    "lista_toponimos_final.reset_index(drop=True, inplace=True)\n",
    "lista_toponimos_final.to_file('text_detected.geojson',driver='GeoJSON')"
   ]
  },
  {
   "cell_type": "code",
   "execution_count": null,
   "metadata": {},
   "outputs": [],
   "source": []
  }
 ],
 "metadata": {
  "kernelspec": {
   "display_name": "Python 3",
   "language": "python",
   "name": "python3"
  },
  "language_info": {
   "codemirror_mode": {
    "name": "ipython",
    "version": 3
   },
   "file_extension": ".py",
   "mimetype": "text/x-python",
   "name": "python",
   "nbconvert_exporter": "python",
   "pygments_lexer": "ipython3",
   "version": "3.8.8"
  }
 },
 "nbformat": 4,
 "nbformat_minor": 4
}
