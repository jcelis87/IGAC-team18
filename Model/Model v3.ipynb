{
 "cells": [
  {
   "cell_type": "code",
   "execution_count": 62,
   "metadata": {},
   "outputs": [],
   "source": [
    "# OCR from Google Vision API\n",
    "from google.cloud import vision\n",
    "\n",
    "# Image processing\n",
    "from rasterio.enums import Resampling\n",
    "from PIL import Image, ImageFilter\n",
    "from rasterio.mask import mask\n",
    "from geotiff import GeoTiff\n",
    "import rasterio\n",
    "import cv2\n",
    "\n",
    "# Data processing\n",
    "import pandas as pd\n",
    "import numpy as np\n",
    "\n",
    "# GeoPandas\n",
    "from shapely.geometry import Polygon, Point\n",
    "from shapely.ops import cascaded_union\n",
    "from shapely import geometry\n",
    "import geopandas as gpd\n",
    "\n",
    "# Manipulation of files in disk\n",
    "import glob\n",
    "import sys\n",
    "import io\n",
    "import os\n",
    "\n",
    "# Other utilities\n",
    "from imutils.object_detection import non_max_suppression\n",
    "import time\n",
    "import re"
   ]
  },
  {
   "cell_type": "markdown",
   "metadata": {},
   "source": [
    "# Model v1: Split the image, detect text areas, and convert to text strings"
   ]
  },
  {
   "cell_type": "markdown",
   "metadata": {},
   "source": [
    "## Splitting the image"
   ]
  },
  {
   "cell_type": "code",
   "execution_count": 63,
   "metadata": {},
   "outputs": [],
   "source": [
    "# Takes a Rasterio dataset and splits it into squares of dimensions squareDim * squareDim\n",
    "def splitImageIntoCells(img, filename, num_imgs=3):\n",
    "    squareDim_wide = img.shape[1] // num_imgs\n",
    "    squareDim_height = img.shape[0] // num_imgs\n",
    "    \n",
    "    numberOfCellsWide = img.shape[1] // squareDim_wide\n",
    "    numberOfCellsHigh = img.shape[0] // squareDim_height\n",
    "    x, y = 0, 0\n",
    "    count = 0\n",
    "    for hc in range(numberOfCellsHigh):\n",
    "        y = hc * squareDim_height\n",
    "        for wc in range(numberOfCellsWide):\n",
    "            x = wc * squareDim_wide\n",
    "            geom = getTileGeom(img.transform, x, y, squareDim_wide, squareDim_height)\n",
    "            getCellFromGeom(img, geom, filename, count)\n",
    "            count = count + 1\n",
    "\n",
    "# Generate a bounding box from the pixel-wise coordinates using the original datasets transform property\n",
    "def getTileGeom(transform, x, y, squareDim_wide, squareDim_height):\n",
    "    corner1 = (x, y) * transform\n",
    "    corner2 = (x + squareDim_wide, y + squareDim_height) * transform\n",
    "    return geometry.box(corner1[0], corner1[1],\n",
    "                        corner2[0], corner2[1])\n",
    "\n",
    "# Crop the dataset using the generated box and write it out as a GeoTIFF\n",
    "def getCellFromGeom(img, geom, filename, count):\n",
    "    crop, cropTransform = mask(img, [geom], crop=True)\n",
    "    writeImageAsGeoTIFF(crop,\n",
    "                        cropTransform,\n",
    "                        img.meta,\n",
    "                        img.crs,\n",
    "                        filename+\"_\"+str(count))\n",
    "\n",
    "# Write the passed in dataset as a GeoTIFF\n",
    "def writeImageAsGeoTIFF(img, transform, metadata, crs, filename):\n",
    "    metadata.update({\"driver\":\"GTiff\",\n",
    "                     \"height\":img.shape[1],\n",
    "                     \"width\":img.shape[2],\n",
    "                     \"transform\": transform,\n",
    "                     \"crs\": 'EPSG:4686'})\n",
    "    with rasterio.open(filename+\".tif\", \"w\", **metadata) as dest:\n",
    "        dest.write(img)"
   ]
  },
  {
   "cell_type": "code",
   "execution_count": 64,
   "metadata": {},
   "outputs": [],
   "source": [
    "def detect_text(bytes_img):\n",
    "    \"\"\"\n",
    "    Uses the Google Vision API to extract text from\n",
    "    an image.\n",
    "    \n",
    "    Arguments\n",
    "    ---------\n",
    "    file_path: str\n",
    "               path of the image to process.\n",
    "    \n",
    "    Outputs\n",
    "    -------\n",
    "    response: AnnotateImageResponse object\n",
    "              json like format with bounding box and other\n",
    "              relevant information.\n",
    "    text: str\n",
    "          text extracted from the image.\n",
    "    \"\"\"\n",
    "    client = vision.ImageAnnotatorClient()    \n",
    "    image = vision.Image(content=bytes_img)\n",
    "    response = client.document_text_detection(image=image)\n",
    "    text = response.full_text_annotation.text\n",
    "    \n",
    "    return response, text\n",
    "\n",
    "\n",
    "def getbytesimg_from_path(filepath):\n",
    "    \"\"\"\n",
    "    Obtains the bytes base64 format of an image from a \n",
    "    local file path.\n",
    "    \n",
    "    Arguments\n",
    "    ---------\n",
    "    filepath: str\n",
    "              Path of the image file to convert\n",
    "    \n",
    "    Output\n",
    "    ------\n",
    "    bytes_img: bytes\n",
    "               base64 format of the image\n",
    "    \"\"\"\n",
    "    with open(filepath, \"rb\") as image_file:\n",
    "        bytes_img = image_file.read()\n",
    "    \n",
    "    return bytes_img"
   ]
  },
  {
   "cell_type": "code",
   "execution_count": 65,
   "metadata": {},
   "outputs": [],
   "source": [
    "def split_images(filepath, num_imgs=3):\n",
    "    \"\"\"\n",
    "    Split a large image into a grid of 3x3\n",
    "    smaller images.\n",
    "    \n",
    "    Arguments:\n",
    "    ---------\n",
    "    filepath: str\n",
    "              file path of the large image\n",
    "    num_imgs: int (optional)\n",
    "              Number of rows and columns of the grid\n",
    "              \n",
    "    Output\n",
    "    ------\n",
    "    None\n",
    "    \n",
    "    \"\"\"\n",
    "    img = rasterio.open(filepath)\n",
    "    splitImageIntoCells(img, \"split_out/output_data\")"
   ]
  },
  {
   "cell_type": "code",
   "execution_count": 66,
   "metadata": {},
   "outputs": [],
   "source": [
    "def geotif_to_jpeg(tif_filename):\n",
    "    \"\"\"\n",
    "    Converts geotif image from disk and saves it \n",
    "    in the same folder in jpeg format.\n",
    "    \n",
    "    Arguments\n",
    "    ---------\n",
    "    tif_filename: str\n",
    "                  path of the tif file to convert\n",
    "    \n",
    "    Output\n",
    "    ------\n",
    "    None\n",
    "    \n",
    "    \"\"\"\n",
    "    with rasterio.open(tif_filename) as infile:    \n",
    "        profile = infile.profile    \n",
    "        profile['driver']='JPEG'\n",
    "        jpeg_filename = tif_filename.replace(\".tif\", \".jpeg\")\n",
    "        with rasterio.open(jpeg_filename, 'w', **profile) as dst:\n",
    "            dst.write(infile.read())"
   ]
  },
  {
   "cell_type": "code",
   "execution_count": 67,
   "metadata": {},
   "outputs": [],
   "source": [
    "def get_text_coords(response):\n",
    "    \"\"\"\n",
    "    Extracts the geographic names and bounding boxes coordinates\n",
    "    from an AnnotateImageResponse object (Google).\n",
    "    \n",
    "    Arguments\n",
    "    ---------\n",
    "    response: AnnotateImageResponse (Google Vision API)\n",
    "              Response object after calling the document_text_detection\n",
    "              function\n",
    "              \n",
    "    Outputs\n",
    "    -------\n",
    "    palabras_google: list\n",
    "                     List of strings containing the geographic names\n",
    "    boundings_google: list\n",
    "                      List of lists of 4 vertices that define the bounding \n",
    "                      box of each geographic name\n",
    "    confidence_google: list\n",
    "                       List of floats representing the confidence of the \n",
    "                       Google API at detecting each handwritten text\n",
    "    \"\"\"\n",
    "    \n",
    "    palabras_google = []\n",
    "    boundings_google = []\n",
    "    confidence_google = []\n",
    "    \n",
    "    for page in response.full_text_annotation.pages:\n",
    "        for block in page.blocks:\n",
    "            palabra_google = ''\n",
    "            boundings_google.append(block.bounding_box)\n",
    "            confidence_google.append(block.confidence)\n",
    "            for parrafos in block.paragraphs:\n",
    "                for palabras in parrafos.words:\n",
    "                    for simbolo in palabras.symbols:\n",
    "                        palabra_google = palabra_google+simbolo.text\n",
    "                    palabra_google = palabra_google+' '\n",
    "            palabras_google.append(palabra_google.rstrip())\n",
    "            \n",
    "    return palabras_google, boundings_google, confidence_google"
   ]
  },
  {
   "cell_type": "code",
   "execution_count": 68,
   "metadata": {},
   "outputs": [],
   "source": [
    "def get_coords(boundings, word_index, point_index, axis):\n",
    "    \"\"\"\n",
    "    Returns x or y coordinate from the list of vertices.\n",
    "    \n",
    "    Arguments\n",
    "    ---------\n",
    "    boundings: list\n",
    "               List of bounding boxes with the vertices of \n",
    "               each bounding box\n",
    "    word_index: int\n",
    "                Index of the desired word starting at 0\n",
    "    point_index: int\n",
    "                 Index of the desired point (from 0 to 3)\n",
    "    coord: str\n",
    "           Either x or y\n",
    "           \n",
    "    Output\n",
    "    ------\n",
    "    coordinate: float\n",
    "                Coordinate of the specified word, point, and axis\n",
    "    \n",
    "    \"\"\"\n",
    "    if axis == \"x\":\n",
    "        coordinate = boundings[word_index].vertices[point_index].x\n",
    "    else:\n",
    "        coordinate = boundings[word_index].vertices[point_index].y\n",
    "    \n",
    "    return coordinate"
   ]
  },
  {
   "cell_type": "code",
   "execution_count": 69,
   "metadata": {},
   "outputs": [],
   "source": [
    "def create_geometries(filepath):\n",
    "    \"\"\"\n",
    "    Splits the image in a grid, uses Google Vision API to extract text\n",
    "    and the bounding boxes. This method creates geojson files with \n",
    "    the geographic names, their respective geodesic coordinates, the \n",
    "    confidence, and the geometries of the bounding boxes.\n",
    "    \n",
    "    The geojson files are saved in the folder geometries.\n",
    "    \n",
    "    Arguments\n",
    "    ---------\n",
    "    filepath: str\n",
    "              Path to the geotiff image file to process\n",
    "              \n",
    "    Output\n",
    "    ------\n",
    "    None\n",
    "    \"\"\"\n",
    "\n",
    "    split_images(filepath)\n",
    "    images_to_proces = os.listdir(path='split_out')\n",
    "\n",
    "    for path in images_to_proces:\n",
    "        if ('.tif' in path):\n",
    "            geotif_to_jpeg(\"split_out/\" + path)\n",
    "            sub_image_jpeg = path.replace('.tif','.jpeg')\n",
    "            response, text = detect_text(getbytesimg_from_path(\"split_out/\" + sub_image_jpeg))\n",
    "            words, boundings, confidence = get_text_coords(response)\n",
    "            img = rasterio.open(\"split_out/\" + sub_image_jpeg)\n",
    "\n",
    "            # Generating the sub_geometries\n",
    "            geometries = []\n",
    "            centroids = []\n",
    "\n",
    "            for i in range(len(words)):\n",
    "                aux_polygon = Polygon([img.xy(get_coords(boundings,i,0,\"y\"),get_coords(boundings,i,0,\"x\")),\n",
    "                                       img.xy(get_coords(boundings,i,1,\"y\"),get_coords(boundings,i,1,\"x\")),\n",
    "                                       img.xy(get_coords(boundings,i,2,\"y\"),get_coords(boundings,i,2,\"x\")),\n",
    "                                       img.xy(get_coords(boundings,i,3,\"y\"),get_coords(boundings,i,3,\"x\")),\n",
    "                                       img.xy(get_coords(boundings,i,0,\"y\"),get_coords(boundings,i,0,\"x\"))])\n",
    "                geometries.append(aux_polygon)\n",
    "                centroids.append(aux_polygon.representative_point())\n",
    "\n",
    "            sub_img_gdf = gpd.GeoDataFrame(columns=[\"toponimo_ocr\",\"confidence\",\n",
    "                \"centroide_longitud\",\"centroide_latitud\",\"geometry\"], crs=str(img.crs))\n",
    "            sub_img_gdf[\"geometry\"] = geometries\n",
    "            sub_img_gdf[\"toponimo_ocr\"] = words\n",
    "            sub_img_gdf[\"confidence\"] = confidence\n",
    "            sub_img_gdf[\"centroide_longitud\"] = [x.coords[0][0] for x in centroids]\n",
    "            sub_img_gdf[\"centroide_latitud\"] = [x.coords[0][1] for x in centroids]\n",
    "            name_geometry = 'geometries/'+sub_image_jpeg.replace('.jpeg','.geojson')\n",
    "            try:\n",
    "                sub_img_gdf.to_file(name_geometry, driver=\"GeoJSON\")\n",
    "            except:\n",
    "                print('Empty text detected, no geometries generated!')"
   ]
  },
  {
   "cell_type": "code",
   "execution_count": 70,
   "metadata": {},
   "outputs": [],
   "source": [
    "def combine_geometries(filepath):\n",
    "    \"\"\"\n",
    "    Takes all the geojson files in the geometries folder and combine\n",
    "    them into a single geojson file. It combines bounding boxes that \n",
    "    intersect each other and their respective geographic names. It \n",
    "    deletes the rows whose name has only numbers.\n",
    "    \n",
    "    Arguments\n",
    "    ---------\n",
    "    filepath: str\n",
    "              Path of the original image\n",
    "    \n",
    "    Output\n",
    "    ------\n",
    "    all_toponyms_gdf: GeoDataFrame\n",
    "                      GeoDataFrame with all the toponyms from the original\n",
    "                      image. It contains the geographic name, geodesic \n",
    "                      coordinates of the centroid, confidence and the \n",
    "                      geometry of the bounding boxes.\n",
    "    \n",
    "    \"\"\"\n",
    "    org_img = rasterio.open(filepath)\n",
    "    geometries_to_process = os.listdir(path='geometries')    \n",
    "    rectangles = []\n",
    "    all_toponyms_gdf = gpd.GeoDataFrame(columns=[\"toponimo_ocr\",\"confidence\",\n",
    "                \"centroide_longitud\",\"centroide_latitud\",\"geometry\"],crs=str(org_img.crs))\n",
    "\n",
    "    for geometry in geometries_to_process:\n",
    "        if \".geojson\" in geometry:\n",
    "            file = gpd.read_file('geometries/' + geometry)\n",
    "            all_toponyms_gdf = all_toponyms_gdf.append(file)\n",
    "\n",
    "    all_toponyms_gdf.reset_index(drop=True, inplace=True)\n",
    "    all_toponyms_gdf = geojson_posprocessing(all_toponyms_gdf)\n",
    "    all_toponyms_gdf.to_file('text_detected.geojson',driver='GeoJSON')\n",
    "    \n",
    "    return all_toponyms_gdf"
   ]
  },
  {
   "cell_type": "code",
   "execution_count": 71,
   "metadata": {},
   "outputs": [],
   "source": [
    "def get_image_corners(filepath):\n",
    "    \"\"\"\n",
    "    Returns the geodesic coordinates of the original image.\n",
    "    \n",
    "    Arguments\n",
    "    ---------\n",
    "    filepath: str\n",
    "              Path of the original image\n",
    "    \n",
    "    Output\n",
    "    ------\n",
    "    image_corners: dict\n",
    "                   Dictionary with two keys: \"upper_left\" and \"lower_left\"\n",
    "                   The values are tuples with the latitude and longitude\n",
    "                   of the image corners.\n",
    "    \"\"\"\n",
    "    original_img = rasterio.open(filepath)\n",
    "    image_corners = {\n",
    "        \"upper_left\": original_img.xy(0,0),\n",
    "        \"lower_right\": original_img.xy(original_img.shape[0], original_img.shape[1])\n",
    "    }\n",
    "    \n",
    "    return image_corners"
   ]
  },
  {
   "cell_type": "code",
   "execution_count": 72,
   "metadata": {},
   "outputs": [],
   "source": [
    "def empty_folders():\n",
    "    \"\"\"\n",
    "    Remove all temporary output files in the \"split_out\" and\n",
    "    \"geometries\" folders. It also deletes the final output file\n",
    "    detected_text.geojson.\n",
    "    \n",
    "    Arguments\n",
    "    ---------\n",
    "    None\n",
    "    \n",
    "    Output\n",
    "    ------\n",
    "    None\n",
    "    \"\"\"\n",
    "    folders = [\"split_out\", \"geometries\"]\n",
    "    \n",
    "    for folder in folders:\n",
    "        files = glob.glob(f\"{folder}/*\")\n",
    "        for f in files:\n",
    "            os.remove(f)\n",
    "    try:\n",
    "        os.remove(\"text_detected.geojson\")\n",
    "    except:\n",
    "        print(\"text_detected.geojson already deleted!\")"
   ]
  },
  {
   "cell_type": "code",
   "execution_count": 96,
   "metadata": {},
   "outputs": [],
   "source": [
    "def geojson_posprocessing(geojson_toponyms):\n",
    "    \"\"\"\n",
    "    Performs the following cleaning processes:\n",
    "     - Identifies and combines polygons that intersect each other.\n",
    "     - Combines the geographic names using the x coordinate \n",
    "    of the centroids to determine which name comes first. \n",
    "     - Remove punctuation symbols.\n",
    "     - Delete the entries that do not have text\n",
    "    \n",
    "    Arguments\n",
    "    ---------\n",
    "    geojson_toponyms: gpd.GeoDataFrame\n",
    "                      Initial GeoDataFrame union of all split images.\n",
    "    \n",
    "    Output: \n",
    "    ------\n",
    "    new_geojson: GeoDataFrame\n",
    "                 GeoDataFrame after processing the mentioned processing\n",
    "    \n",
    "    \"\"\"\n",
    "    \n",
    "    new_geojson = gpd.GeoDataFrame(columns=[\"toponimo_ocr\",\"confidence\",\n",
    "        \"centroide_longitud\",\"centroide_latitud\",\"geometry\"],\n",
    "                                    crs=geojson_toponyms.crs)\n",
    "    \n",
    "    # Combine polygons that intersect each other\n",
    "    while(len(geojson_toponyms) != 0):\n",
    "        \n",
    "        indexes = []\n",
    "        new_elments =[]\n",
    "\n",
    "        for i in range(0,len(geojson_toponyms)):\n",
    "            if (geojson_toponyms.geometry[0].intersects(\n",
    "                                geojson_toponyms.geometry[i])):\n",
    "                indexes.append(i)\n",
    "\n",
    "        if (len(indexes)==1):\n",
    "            indexes = [0]\n",
    "            new_geojson = new_geojson.append(geojson_toponyms.iloc[0:1])\n",
    "\n",
    "        else:\n",
    "            for j in range(0,4):\n",
    "                for idx in range(len(indexes)):\n",
    "                    for i in range(0,len(geojson_toponyms)):\n",
    "                        if (geojson_toponyms.geometry[indexes[idx]].intersects(\n",
    "                                                  geojson_toponyms.geometry[i])):\n",
    "                            indexes.append(i)\n",
    "                indexes = list(set(indexes))\n",
    "\n",
    "            geom_list = [geojson_toponyms.geometry[j] for j in indexes]\n",
    "            new_elments = [(geojson_toponyms['toponimo_ocr'][row],\n",
    "                            geojson_toponyms['confidence'][row],\n",
    "                            geojson_toponyms['centroide_longitud'][row]) for row in indexes]\n",
    "\n",
    "            new_elments.sort(key=lambda tup: tup[2], reverse=False)\n",
    "            toponimo_ocr = [' '.join([i[0] for i in new_elments])]\n",
    "            confidence = [max([i[1] for i in new_elments])]\n",
    "            new_geom = [cascaded_union(geom_list)]\n",
    "            centroide_longitud = [new_geom[0].representative_point().coords[0][0]]\n",
    "            centroide_latitud = [new_geom[0].representative_point().coords[0][1]]\n",
    "            new_word = {'toponimo_ocr': toponimo_ocr,'confidence': confidence, \n",
    "                        'centroide_longitud': centroide_longitud,\n",
    "                        'centroide_latitud': centroide_latitud,'geometry': new_geom}\n",
    "\n",
    "            aux_geojson = gpd.GeoDataFrame(new_word,columns=[\"toponimo_ocr\",\n",
    "                            \"confidence\", \"centroide_longitud\",\"centroide_latitud\", \n",
    "                                              \"geometry\"], crs=geojson_toponyms.crs)\n",
    "            \n",
    "            new_geojson = new_geojson.append(aux_geojson)\n",
    "\n",
    "        geojson_toponyms = geojson_toponyms.drop(\n",
    "            labels=indexes, axis=0).reset_index(drop=True)      \n",
    "           \n",
    "    new_geojson.reset_index(drop=True,inplace=True)\n",
    "    \n",
    "    # Remove punctuation\n",
    "    new_geojson[\"toponimo_ocr\"] = new_geojson[\"toponimo_ocr\"].apply(\n",
    "        lambda x: re.sub(r\"[^\\w\\s]\", \"\", x))\n",
    "    \n",
    "    # Remove rows that have a sequence of 3+ numbers\n",
    "    no_numbers = new_geojson[\"toponimo_ocr\"].apply(\n",
    "        lambda x: False if re.search(\"\\d{2,}\", x) else True)\n",
    "    new_geojson = new_geojson.loc[no_numbers].reset_index(drop=True)\n",
    "        \n",
    "    return new_geojson"
   ]
  },
  {
   "cell_type": "code",
   "execution_count": 97,
   "metadata": {},
   "outputs": [
    {
     "data": {
      "text/plain": [
       "['geotiffs/M-1390 F-42286.tif',\n",
       " 'geotiffs/M-1390 F-42290.tif',\n",
       " 'geotiffs/C-1974 F-238.tif',\n",
       " 'geotiffs/C-2070 F-252.tif',\n",
       " 'geotiffs/C-2070 F-250.tif',\n",
       " 'geotiffs/C-1974 F-240.tif']"
      ]
     },
     "execution_count": 97,
     "metadata": {},
     "output_type": "execute_result"
    }
   ],
   "source": [
    "aerophotos = glob.glob(\"geotiffs/*.tif\")\n",
    "aerophotos"
   ]
  },
  {
   "cell_type": "markdown",
   "metadata": {},
   "source": [
    "## Suggested procedure"
   ]
  },
  {
   "cell_type": "markdown",
   "metadata": {},
   "source": [
    "1. Delete all the temporary files (`empty_folders()`)\n",
    "2. Create individual geometries from the path of the original image (`create_geometries(path)`)\n",
    "3. Combine geometries into single geojson file (`combine_geometries()`)\n",
    "4. Get coordinates of the corners of the original image (`get_image_corners(path)`)"
   ]
  },
  {
   "cell_type": "markdown",
   "metadata": {},
   "source": [
    "### Testing for each of the 6 geotiff images"
   ]
  },
  {
   "cell_type": "code",
   "execution_count": 98,
   "metadata": {},
   "outputs": [
    {
     "name": "stderr",
     "output_type": "stream",
     "text": [
      "<ipython-input-63-2599675af965>:20: DeprecationWarning: Right multiplication will be prohibited in version 3.0\n",
      "  corner1 = (x, y) * transform\n",
      "<ipython-input-63-2599675af965>:21: DeprecationWarning: Right multiplication will be prohibited in version 3.0\n",
      "  corner2 = (x + squareDim_wide, y + squareDim_height) * transform\n"
     ]
    },
    {
     "name": "stdout",
     "output_type": "stream",
     "text": [
      "Empty text detected, no geometries generated!\n",
      "Empty text detected, no geometries generated!\n",
      "CPU times: user 3.45 s, sys: 142 ms, total: 3.59 s\n",
      "Wall time: 6.51 s\n"
     ]
    },
    {
     "data": {
      "text/plain": [
       "{'upper_left': (-75.81961718134531, 3.9789168373452815),\n",
       " 'lower_right': (-75.70771187534531, 3.8674629443452813)}"
      ]
     },
     "execution_count": 98,
     "metadata": {},
     "output_type": "execute_result"
    }
   ],
   "source": [
    "%%time\n",
    "# M-1390 F-42286\n",
    "empty_folders()\n",
    "create_geometries(aerophotos[0])\n",
    "all_toponyms_img1 = combine_geometries(aerophotos[0])\n",
    "get_image_corners(aerophotos[0])"
   ]
  },
  {
   "cell_type": "code",
   "execution_count": 100,
   "metadata": {},
   "outputs": [
    {
     "name": "stderr",
     "output_type": "stream",
     "text": [
      "<ipython-input-63-2599675af965>:20: DeprecationWarning: Right multiplication will be prohibited in version 3.0\n",
      "  corner1 = (x, y) * transform\n",
      "<ipython-input-63-2599675af965>:21: DeprecationWarning: Right multiplication will be prohibited in version 3.0\n",
      "  corner2 = (x + squareDim_wide, y + squareDim_height) * transform\n"
     ]
    },
    {
     "name": "stdout",
     "output_type": "stream",
     "text": [
      "CPU times: user 3.69 s, sys: 213 ms, total: 3.9 s\n",
      "Wall time: 7.77 s\n"
     ]
    },
    {
     "data": {
      "text/plain": [
       "{'upper_left': (-75.79279845128181, 4.112223605281884),\n",
       " 'lower_right': (-75.69306024028181, 4.011420865281885)}"
      ]
     },
     "execution_count": 100,
     "metadata": {},
     "output_type": "execute_result"
    }
   ],
   "source": [
    "%%time\n",
    "# M-1390 F-42290\n",
    "empty_folders()\n",
    "create_geometries(aerophotos[1])\n",
    "all_toponyms_img2 = combine_geometries(aerophotos[1])\n",
    "get_image_corners(aerophotos[1])"
   ]
  },
  {
   "cell_type": "code",
   "execution_count": 101,
   "metadata": {},
   "outputs": [
    {
     "name": "stderr",
     "output_type": "stream",
     "text": [
      "<ipython-input-63-2599675af965>:20: DeprecationWarning: Right multiplication will be prohibited in version 3.0\n",
      "  corner1 = (x, y) * transform\n",
      "<ipython-input-63-2599675af965>:21: DeprecationWarning: Right multiplication will be prohibited in version 3.0\n",
      "  corner2 = (x + squareDim_wide, y + squareDim_height) * transform\n"
     ]
    },
    {
     "name": "stdout",
     "output_type": "stream",
     "text": [
      "Empty text detected, no geometries generated!\n",
      "CPU times: user 3.07 s, sys: 162 ms, total: 3.23 s\n",
      "Wall time: 6.57 s\n"
     ]
    },
    {
     "data": {
      "text/plain": [
       "{'upper_left': (-75.8740351937534, 3.8952368917533815),\n",
       " 'lower_right': (-75.8089799487534, 3.8319784377533814)}"
      ]
     },
     "execution_count": 101,
     "metadata": {},
     "output_type": "execute_result"
    }
   ],
   "source": [
    "%%time\n",
    "# C-1974 F-238.tif\n",
    "empty_folders()\n",
    "create_geometries(aerophotos[2])\n",
    "all_toponyms_img3 = combine_geometries(aerophotos[2])\n",
    "get_image_corners(aerophotos[2])"
   ]
  },
  {
   "cell_type": "code",
   "execution_count": 102,
   "metadata": {},
   "outputs": [
    {
     "name": "stdout",
     "output_type": "stream",
     "text": [
      "text_detected.geojson already deleted!\n"
     ]
    },
    {
     "name": "stderr",
     "output_type": "stream",
     "text": [
      "<ipython-input-63-2599675af965>:20: DeprecationWarning: Right multiplication will be prohibited in version 3.0\n",
      "  corner1 = (x, y) * transform\n",
      "<ipython-input-63-2599675af965>:21: DeprecationWarning: Right multiplication will be prohibited in version 3.0\n",
      "  corner2 = (x + squareDim_wide, y + squareDim_height) * transform\n"
     ]
    },
    {
     "name": "stdout",
     "output_type": "stream",
     "text": [
      "CPU times: user 4.04 s, sys: 170 ms, total: 4.21 s\n",
      "Wall time: 8.24 s\n"
     ]
    },
    {
     "data": {
      "text/plain": [
       "{'upper_left': (-75.82882085855019, 3.952130957550283),\n",
       " 'lower_right': (-75.74488113955019, 3.867971405550283)}"
      ]
     },
     "execution_count": 102,
     "metadata": {},
     "output_type": "execute_result"
    }
   ],
   "source": [
    "%%time\n",
    "# C-2070 F-252.tif\n",
    "empty_folders()\n",
    "create_geometries(aerophotos[3])\n",
    "all_toponyms_img4 = combine_geometries(aerophotos[3])\n",
    "get_image_corners(aerophotos[3])"
   ]
  },
  {
   "cell_type": "code",
   "execution_count": 103,
   "metadata": {},
   "outputs": [
    {
     "name": "stderr",
     "output_type": "stream",
     "text": [
      "<ipython-input-63-2599675af965>:20: DeprecationWarning: Right multiplication will be prohibited in version 3.0\n",
      "  corner1 = (x, y) * transform\n",
      "<ipython-input-63-2599675af965>:21: DeprecationWarning: Right multiplication will be prohibited in version 3.0\n",
      "  corner2 = (x + squareDim_wide, y + squareDim_height) * transform\n"
     ]
    },
    {
     "name": "stdout",
     "output_type": "stream",
     "text": [
      "CPU times: user 4.09 s, sys: 171 ms, total: 4.27 s\n",
      "Wall time: 7.97 s\n"
     ]
    },
    {
     "data": {
      "text/plain": [
       "{'upper_left': (-75.82953946582832, 4.001018766828459),\n",
       " 'lower_right': (-75.74476330082832, 3.9190583278284588)}"
      ]
     },
     "execution_count": 103,
     "metadata": {},
     "output_type": "execute_result"
    }
   ],
   "source": [
    "%%time\n",
    "# C-2070 F-250.tif\n",
    "empty_folders()\n",
    "create_geometries(aerophotos[4])\n",
    "all_toponyms_img5 = combine_geometries(aerophotos[4])\n",
    "get_image_corners(aerophotos[4])"
   ]
  },
  {
   "cell_type": "code",
   "execution_count": 104,
   "metadata": {},
   "outputs": [
    {
     "name": "stderr",
     "output_type": "stream",
     "text": [
      "<ipython-input-63-2599675af965>:20: DeprecationWarning: Right multiplication will be prohibited in version 3.0\n",
      "  corner1 = (x, y) * transform\n",
      "<ipython-input-63-2599675af965>:21: DeprecationWarning: Right multiplication will be prohibited in version 3.0\n",
      "  corner2 = (x + squareDim_wide, y + squareDim_height) * transform\n"
     ]
    },
    {
     "name": "stdout",
     "output_type": "stream",
     "text": [
      "CPU times: user 3.39 s, sys: 156 ms, total: 3.55 s\n",
      "Wall time: 7.5 s\n"
     ]
    },
    {
     "data": {
      "text/plain": [
       "{'upper_left': (-75.87331615888398, 3.9374634048839634),\n",
       " 'lower_right': (-75.81190315188398, 3.8747698248839635)}"
      ]
     },
     "execution_count": 104,
     "metadata": {},
     "output_type": "execute_result"
    }
   ],
   "source": [
    "%%time\n",
    "# C-1974 F-240.tif\n",
    "empty_folders()\n",
    "create_geometries(aerophotos[5])\n",
    "all_toponyms_img6 = combine_geometries(aerophotos[5])\n",
    "get_image_corners(aerophotos[5])"
   ]
  },
  {
   "cell_type": "code",
   "execution_count": null,
   "metadata": {},
   "outputs": [],
   "source": []
  }
 ],
 "metadata": {
  "kernelspec": {
   "display_name": "Python 3",
   "language": "python",
   "name": "python3"
  },
  "language_info": {
   "codemirror_mode": {
    "name": "ipython",
    "version": 3
   },
   "file_extension": ".py",
   "mimetype": "text/x-python",
   "name": "python",
   "nbconvert_exporter": "python",
   "pygments_lexer": "ipython3",
   "version": "3.8.5"
  }
 },
 "nbformat": 4,
 "nbformat_minor": 4
}
